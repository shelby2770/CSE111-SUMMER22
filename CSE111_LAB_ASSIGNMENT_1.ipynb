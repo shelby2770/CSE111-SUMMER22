{
 "cells": [
  {
   "cell_type": "code",
   "execution_count": 6,
   "id": "a9f97f6b",
   "metadata": {},
   "outputs": [
    {
     "name": "stdout",
     "output_type": "stream",
     "text": [
      "BaNaNa\n",
      "banana\n"
     ]
    }
   ],
   "source": [
    "#task1\n",
    "str_1 = input()\n",
    "\n",
    "uppercase_count = 0\n",
    "lowercase_count = 0\n",
    "for i in str_1:\n",
    "    if 65<=ord(i)<=90: #if true then uppercase\n",
    "        uppercase_count+=1\n",
    "    elif 97<=ord(i)<=122: #if true then lowercase\n",
    "        lowercase_count+=1\n",
    "\n",
    "new_string = \"\"\n",
    "if uppercase_count>lowercase_count:\n",
    "    for i in str_1:\n",
    "        if 97<=ord(i)<=122:\n",
    "            i = chr(ord(i)-32)#converting into uppercase\n",
    "            new_string+= i\n",
    "        elif 65<=ord(i)<=90:\n",
    "            new_string+= i\n",
    "\n",
    "else:\n",
    "    for i in str_1:\n",
    "        if 97<=ord(i)<=122:\n",
    "            new_string+= i\n",
    "        elif 65<=ord(i)<=90:\n",
    "            i = chr(ord(i)+32)#converting in to lowercase\n",
    "            new_string+= i  \n",
    "print(new_string)            "
   ]
  },
  {
   "cell_type": "code",
   "execution_count": 9,
   "id": "de4f3ade",
   "metadata": {},
   "outputs": [
    {
     "name": "stdout",
     "output_type": "stream",
     "text": [
      "213213\n",
      "NUMBER\n"
     ]
    }
   ],
   "source": [
    "#task2\n",
    "string_name = input() \n",
    "all_numbers =\"0123456789\"#all digits\n",
    "num=0\n",
    "alpha_count = 0\n",
    "for i in string_name:\n",
    "    if i in all_numbers:\n",
    "        num +=1\n",
    "    else:\n",
    "        alpha_count+=1\n",
    "        \n",
    "if num == 0:\n",
    "    print(\"WORD\")\n",
    "elif alpha_count==0:\n",
    "    print(\"NUMBER\")\n",
    "else:\n",
    "    print(\"MIXED\")\n"
   ]
  },
  {
   "cell_type": "code",
   "execution_count": 9,
   "id": "c2c24edf",
   "metadata": {},
   "outputs": [
    {
     "name": "stdout",
     "output_type": "stream",
     "text": [
      "baNgladEsh\n",
      "glad\n"
     ]
    }
   ],
   "source": [
    "string_name = input()#task3\n",
    "new_string = \"\"\n",
    "for i in range(len(string_name)):\n",
    "    if 65<= ord(string_name[i]) <=90:\n",
    "        new_string += str(i)\n",
    "string_name = string_name[int(new_string[0])+1:int(new_string[1])]\n",
    "if string_name == \"\":\n",
    "    print(\"BLANK\")\n",
    "else:\n",
    "    print(string_name)\n"
   ]
  },
  {
   "cell_type": "code",
   "execution_count": 15,
   "id": "9db98d56",
   "metadata": {},
   "outputs": [
    {
     "name": "stdout",
     "output_type": "stream",
     "text": [
      "harry, hermione\n",
      "hrrhr\n"
     ]
    }
   ],
   "source": [
    "#task4\n",
    "string_name = input()\n",
    "modified_string = string_name.split(\",\")\n",
    "string_name1= modified_string[0]\n",
    "string_name2= modified_string[1]\n",
    "new_string = \"\"\n",
    "for i in string_name1:\n",
    "    if i in string_name2:\n",
    "        new_string += i\n",
    "for i in string_name2:\n",
    "    if i in string_name1:\n",
    "        new_string += i\n",
    "\n",
    "if new_string ==\"\":\n",
    "    print(\"Nothing in common.\")\n",
    "else:\n",
    "    print(new_string)"
   ]
  },
  {
   "cell_type": "code",
   "execution_count": 21,
   "id": "d62b0d0c",
   "metadata": {},
   "outputs": [
    {
     "name": "stdout",
     "output_type": "stream",
     "text": [
      "enter a new password: ohmybracu\n",
      "Uppercase character missing, Digit missing, Special character missing\n"
     ]
    }
   ],
   "source": [
    "#task5\n",
    "password = input(\"enter a new password: \")\n",
    "digit_count = 0\n",
    "upper_count = 0\n",
    "low_count = 0\n",
    "special_count = 0\n",
    "for i in password:\n",
    "    if \"A\"<= i<=\"Z\":\n",
    "        upper_count+= 1\n",
    "    elif \"a\"<= i<= \"z\":\n",
    "        low_count+=1\n",
    "    elif \"0\"<=i<=\"9\":\n",
    "        digit_count += 1\n",
    "    else:\n",
    "        special_count +=1\n",
    "result = \"\"\n",
    "if upper_count == 0:\n",
    "    result+= \"Uppercase character missing, \"\n",
    "if low_count == 0:\n",
    "    result+=\"Lowercase letter missing, \"\n",
    "if digit_count == 0:\n",
    "    result+=\"Digit missing, \"\n",
    "if special_count == 0:\n",
    "    result+=\"Special character missing, \"\n",
    "if upper_count!=0 and low_count!=0 and digit_count!=0 and special_count!=0:\n",
    "    result+= \"OK, \"\n",
    "    \n",
    "print(result[:-2])#we use slicing so that the comma doesnot come \n"
   ]
  },
  {
   "cell_type": "code",
   "execution_count": 4,
   "id": "b1141971",
   "metadata": {},
   "outputs": [
    {
     "name": "stdout",
     "output_type": "stream",
     "text": [
      "enter a num: 10\n",
      "enter a num: 20\n",
      "enter a num: 20\n",
      "enter a num: 30\n",
      "enter a num: 10\n",
      "enter a num: 50\n",
      "enter a num: 90\n",
      "enter a num: STOP\n",
      "10-2 times\n",
      "20-2 times\n",
      "30-1 times\n",
      "50-1 times\n",
      "90-1 times\n"
     ]
    }
   ],
   "source": [
    "#task1 list\n",
    "mylist = []\n",
    "while True:\n",
    "    num = input(\"enter a num: \")\n",
    "    if num == \"STOP\":\n",
    "        break\n",
    "    else:\n",
    "        mylist.append(int(num))\n",
    "new_list = []\n",
    "for i in mylist:\n",
    "    if i not in new_list:\n",
    "        new_list.append(i)\n",
    "for i in new_list:\n",
    "    print(i,\" - \",mylist.count(i),\" times\",sep=\"\")\n",
    "    "
   ]
  },
  {
   "cell_type": "code",
   "execution_count": 6,
   "id": "57c9170b",
   "metadata": {},
   "outputs": [
    {
     "name": "stdout",
     "output_type": "stream",
     "text": [
      "enter a num: 4\n",
      "enter a list:1 2 3\n",
      "enter a list:4 5 6\n",
      "enter a list:10 11 12\n",
      "enter a list:7 8 9\n",
      "33\n",
      "[10, 11, 12]\n"
     ]
    }
   ],
   "source": [
    "num = int(input(\"enter a num: \"))#task2\n",
    "max_list=input(\"enter a list:\").split()\n",
    "max_sum = 0\n",
    "for i in max_list:\n",
    "    max_sum += int(i)\n",
    "for i in range(num-1):\n",
    "    sum1 = 0\n",
    "    my_list = input(\"enter a list:\").split()\n",
    "    for j in my_list:\n",
    "        sum1 += int(j)\n",
    "    if sum1 > max_sum:\n",
    "        max_sum = sum1\n",
    "        max_list = my_list\n",
    "new_list = []\n",
    "for i in max_list:\n",
    "    new_list.append(int(i))\n",
    "print(max_sum)\n",
    "print(new_list)\n",
    "    \n",
    "    "
   ]
  },
  {
   "cell_type": "code",
   "execution_count": 1,
   "id": "6a8fe0f7",
   "metadata": {},
   "outputs": [
    {
     "name": "stdout",
     "output_type": "stream",
     "text": [
      "enter a list: 1 4 2 3\n",
      "UB Jumper\n",
      "enter a list: 2 1 4 6 10\n",
      "UB Jumper\n",
      "enter a list: 1 4 2 -1 6\n",
      "Not UB Jumper\n",
      "enter a list: STOP\n"
     ]
    }
   ],
   "source": [
    "#task3\n",
    "while True:\n",
    "    my_list = input(\"enter a list: \")\n",
    "    if my_list == \"STOP\":\n",
    "        break\n",
    "    my_list = my_list.split()\n",
    "    new_list = []\n",
    "    for i in range(0,len(my_list)-1):\n",
    "        diff = abs(int(my_list[i])-int(my_list[i+1]))\n",
    "        new_list.append(diff)\n",
    "    new_list.sort()\n",
    "    list3 = []\n",
    "    for i in range(1,len(my_list)):\n",
    "        list3.append(i)\n",
    "    if new_list == list3:\n",
    "        print(\"UB Jumper\")\n",
    "    else:\n",
    "        print(\"Not UB Jumper\")\n",
    "                                    "
   ]
  },
  {
   "cell_type": "code",
   "execution_count": 18,
   "id": "7df1d3bd",
   "metadata": {},
   "outputs": [
    {
     "name": "stdout",
     "output_type": "stream",
     "text": [
      "enter a num: 6 5\n",
      "enter a members: 0 0 0 0 0 0\n",
      "2\n"
     ]
    }
   ],
   "source": [
    "#task4\n",
    "val = input(\"enter a num: \").split()\n",
    "n = int(val[0])\n",
    "k = int(val[1])\n",
    "members = input(\"enter a members: \").split()\n",
    "new_members = []\n",
    "for i in members:\n",
    "    new_members.append(int(i))\n",
    "count = 0\n",
    "for j in new_members:\n",
    "    if j+k <= 5:\n",
    "        count += 1\n",
    "team = count//3\n",
    "print(team)\n",
    "    \n"
   ]
  },
  {
   "cell_type": "code",
   "execution_count": 12,
   "id": "fcf0c8a5",
   "metadata": {},
   "outputs": [
    {
     "name": "stdout",
     "output_type": "stream",
     "text": [
      "enter a dictionary : a: 100, b: 100, c: 200, d: 300\n",
      "enter a dictionary : a: 300, b: 200, d: 400, e: 200\n",
      "{'a': 400, 'b': 300, 'c': 200, 'd': 700, 'e': 200}\n",
      "(200, 300, 400, 700)\n"
     ]
    }
   ],
   "source": [
    "#dictionary task1\n",
    "val_1 = input(\"enter a dictionary : \").replace(\" \",\"\").split(\",\")\n",
    "a_dict = {}\n",
    "for i in val_1:\n",
    "    temp = i\n",
    "    a_list = temp.split(\":\")\n",
    "    a_dict[a_list[0]] = int(a_list[1])\n",
    "    \n",
    "    \n",
    "val_2 = input(\"enter a dictionary : \").replace(\" \",\"\").split(\",\")\n",
    "b_dict = {}\n",
    "for i in val_2:\n",
    "    temp = i\n",
    "    b_list = temp.split(\":\")\n",
    "    b_dict[b_list[0]] = int(b_list[1])\n",
    "    \n",
    "    \n",
    "new_dict = {}\n",
    "for k,v in a_dict.items():\n",
    "    if k in a_dict and k in b_dict:\n",
    "        new_dict[k] = b_dict.get(k) + a_dict.get(k)\n",
    "    else:\n",
    "        new_dict[k]=a_dict[k]\n",
    "        \n",
    "for k,v in b_dict.items():\n",
    "    if k in a_dict and k in b_dict:\n",
    "        new_dict[k] = b_dict.get(k) + a_dict.get(k)\n",
    "    else:\n",
    "        new_dict[k]=b_dict[k]\n",
    "        \n",
    "my_list = []\n",
    "for v in new_dict.values():\n",
    "    my_list.append(v)\n",
    "new_list = []\n",
    "for i in my_list:\n",
    "    if i not in new_list:\n",
    "        new_list.append(i)\n",
    "print(new_dict)\n",
    "print(tuple(sorted(new_list)))\n",
    "\n",
    "        \n",
    "\n",
    "    \n",
    "\n",
    "    "
   ]
  },
  {
   "cell_type": "code",
   "execution_count": 20,
   "id": "55287658",
   "metadata": {},
   "outputs": [
    {
     "name": "stdout",
     "output_type": "stream",
     "text": [
      "enter a num: 10\n",
      "enter a num: 20\n",
      "enter a num: 20\n",
      "enter a num: 30\n",
      "enter a num: 10\n",
      "enter a num: 50\n",
      "enter a num: 90\n",
      "enter a num: STOP\n",
      "10-2 times\n",
      "20-2 times\n",
      "30-1 times\n",
      "50-1 times\n",
      "90-1 times\n"
     ]
    }
   ],
   "source": [
    "#task2\n",
    "my_dict = {}\n",
    "while True:\n",
    "    num = input(\"enter a num: \")\n",
    "    if num == \"STOP\":\n",
    "        break\n",
    "    num = int(num)\n",
    "    if my_dict.get(num) == None:\n",
    "        my_dict[num] = 1\n",
    "    else:\n",
    "        my_dict[num]+=1\n",
    "for k,v in my_dict.items():\n",
    "    print(k,\" - \",my_dict[k],\" times\",sep = \"\")\n",
    "        "
   ]
  },
  {
   "cell_type": "code",
   "execution_count": 28,
   "id": "9a893540",
   "metadata": {},
   "outputs": [
    {
     "name": "stdout",
     "output_type": "stream",
     "text": [
      "enter a string: key1 : value1, key2 : value2, key3 : value1\n",
      "{'value1': ['key1', 'key3'], 'value2': ['key2']}\n"
     ]
    }
   ],
   "source": [
    "#task3\n",
    "val= input(\"enter a string: \").split(\", \")\n",
    "dict_1= {}\n",
    "dict_2= {}\n",
    "\n",
    "for i in val:\n",
    "    if \":\" in i:\n",
    "        list_2= i.split(\" : \")\n",
    "        dict_1[list_2[0]]= list_2[1]\n",
    "            \n",
    "for k,v in dict_1.items():\n",
    "    if dict_2.get(v)== None:\n",
    "        dict_2[v] = [k]\n",
    "    else:\n",
    "        dict_2[v].append(k)\n",
    "print(dict_2)"
   ]
  },
  {
   "cell_type": "code",
   "execution_count": 13,
   "id": "97f1bf1b",
   "metadata": {},
   "outputs": [
    {
     "name": "stdout",
     "output_type": "stream",
     "text": [
      "enter a string name: Hello, World!\n",
      "4433555555666110966677755531111"
     ]
    }
   ],
   "source": [
    "#task4\n",
    "a_dict = {'.':1,',':11,'?':111,'!':1111,':':11111, 'A':2,'B':22,'C':222,'D':3,'E':33,'F':333,'G':4,'H':44,'I':444,\n",
    "   'J':5,'K':55,'L':555,'M':6,'N':66,'O':666,'P':7,'Q':77,'R':777,\n",
    "   'S':7777,'T':8,'U':88,'V':888,'W':9,'X':99,'Y':999,'Z':9999,' ':0}\n",
    "string_name = input(\"enter a string name: \").upper()\n",
    "for i in string_name:\n",
    "    for k,v in a_dict.items():\n",
    "        if i == k:\n",
    "            print(v,end=\"\")\n",
    "    \n",
    "    \n",
    "    \n",
    "        \n"
   ]
  },
  {
   "cell_type": "code",
   "execution_count": 2,
   "id": "396567c9",
   "metadata": {},
   "outputs": [
    {
     "name": "stdout",
     "output_type": "stream",
     "text": [
      "(152, 48)\n",
      "Score is 20.8. You are Normal\n"
     ]
    }
   ],
   "source": [
    "#functions task1\n",
    "def BMI(height, weight):\n",
    "    height/= 100\n",
    "    bmi = weight/(height**2)\n",
    "    if bmi< 18.5:\n",
    "        print(\"Score is \", f\"{bmi:.1f}\", \". You are Underweight\", sep=\"\")\n",
    "        \n",
    "    elif 18.5<=bmi<=24.9:\n",
    "        print(\"Score is \", f\"{bmi:.1f}\", \". You are Normal\", sep=\"\")\n",
    "        \n",
    "    elif 25<=bmi<=30:\n",
    "        print(\"Score is \", f\"{bmi:.1f}\", \". You are Overweight\", sep=\"\")\n",
    "        \n",
    "    elif bmi> 30:\n",
    "        print(\"Score is \", f\"{bmi:.1f}\", \". You are Obese\", sep=\"\")    \n",
    "    \n",
    "list_1= input()[1:-1].split(\", \")\n",
    "height= int(list_1[0])\n",
    "weight= int(list_1[1])\n",
    "BMI(height, weight)"
   ]
  },
  {
   "cell_type": "code",
   "execution_count": 7,
   "id": "1afe0a07",
   "metadata": {},
   "outputs": [
    {
     "name": "stdout",
     "output_type": "stream",
     "text": [
      "(0, 10, 2)\n",
      "20\n"
     ]
    }
   ],
   "source": [
    "#task2\n",
    "def my_func(minimum, maximum, divisor):\n",
    "    num= 0\n",
    "    for i in range(minimum, maximum):\n",
    "        if i%divisor== 0:\n",
    "            num+= i\n",
    "    return num        \n",
    "            \n",
    "list_1= input()[1:-1].split(\", \")\n",
    "minimum= int(list_1[0])\n",
    "maximum= int(list_1[1])\n",
    "divisor= int(list_1[2])\n",
    "print(my_func(minimum, maximum, divisor))"
   ]
  },
  {
   "cell_type": "code",
   "execution_count": 9,
   "id": "40dc164e",
   "metadata": {},
   "outputs": [
    {
     "name": "stdout",
     "output_type": "stream",
     "text": [
      "(‘Beef Burger’)\n",
      "223.6\n"
     ]
    }
   ],
   "source": [
    "#task3\n",
    "def menu_order(burger,place = \"Mohakhali\"):\n",
    "    \n",
    "    meal_cost = 0\n",
    "    if burger ==\"BBQ Chicken Cheese Burger\":\n",
    "        meal_cost = 250\n",
    "    elif burger == \"Beef Burger\":\n",
    "        meal_cost = 170\n",
    "    elif burger == \"Naga Drums\":\n",
    "        meal_cost = 200\n",
    "    \n",
    "    delivery_charge = 0\n",
    "    if place == \"Mohakhali\":\n",
    "        delivery_charge = 40\n",
    "    else:\n",
    "        delivery_charge = 60\n",
    "    \n",
    "    total_price = meal_cost + delivery_charge + 0.08 * meal_cost\n",
    "    return total_price\n",
    "str_1= input()\n",
    "if \",\" not in str_1:\n",
    "    print(menu_order(str_1[2:-2]))\n",
    "else:\n",
    "    list_1= str_1[1:-1].split(\", \")        \n",
    "    burger= list_1[0][1:-1]\n",
    "    place= list_1[0][1:-1]\n",
    "    print(menu_order(burger, place))"
   ]
  },
  {
   "cell_type": "code",
   "execution_count": 14,
   "id": "47005b9e",
   "metadata": {},
   "outputs": [
    {
     "name": "stdout",
     "output_type": "stream",
     "text": [
      "h\n",
      "e\n",
      "l\n",
      "l\n"
     ]
    }
   ],
   "source": [
    "a = \"hell9\"\n",
    "for i in a:\n",
    "    if \"0\"<= i<= \"9\": \n",
    "        print(i)"
   ]
  },
  {
   "cell_type": "code",
   "execution_count": null,
   "id": "3729ff94",
   "metadata": {},
   "outputs": [],
   "source": []
  }
 ],
 "metadata": {
  "kernelspec": {
   "display_name": "Python 3 (ipykernel)",
   "language": "python",
   "name": "python3"
  },
  "language_info": {
   "codemirror_mode": {
    "name": "ipython",
    "version": 3
   },
   "file_extension": ".py",
   "mimetype": "text/x-python",
   "name": "python",
   "nbconvert_exporter": "python",
   "pygments_lexer": "ipython3",
   "version": "3.9.7"
  }
 },
 "nbformat": 4,
 "nbformat_minor": 5
}
